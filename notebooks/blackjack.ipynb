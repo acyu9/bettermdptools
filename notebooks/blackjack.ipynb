{
 "cells": [
  {
   "cell_type": "markdown",
   "id": "3fc680b9-a919-4dda-9ecc-5a1a2a107477",
   "metadata": {},
   "source": [
    "# Blackjack\n",
    "Planner __init__ expects a reward and transition matrix P, which is a nested dictionary \n",
    "[OpenAI Gym](https://www.gymlibrary.ml/) style discrete environment where \n",
    "P[state][action] is a list of tuples (probability, next state, reward, terminal).\n",
    "\n",
    "The gym blackjack environment does not include this matrix, so we'll use the BlackjackWrapper class to create a wrapped gym environment, which modifies the observation space and includes P.  "
   ]
  },
  {
   "cell_type": "code",
   "execution_count": null,
   "id": "3ec59973-2c7e-4331-9037-7b6f4a4a661e",
   "metadata": {},
   "outputs": [],
   "source": [
    "!pip install bettermdptools"
   ]
  },
  {
   "cell_type": "code",
   "execution_count": 1,
   "id": "900376a8-792f-41bc-988c-2bc23ff2d7d4",
   "metadata": {},
   "outputs": [
    {
     "name": "stderr",
     "output_type": "stream",
     "text": [
      "C:\\Users\\amywa\\miniconda3\\envs\\a4_conda\\Lib\\site-packages\\tqdm\\auto.py:21: TqdmWarning: IProgress not found. Please update jupyter and ipywidgets. See https://ipywidgets.readthedocs.io/en/stable/user_install.html\n",
      "  from .autonotebook import tqdm as notebook_tqdm\n"
     ]
    }
   ],
   "source": [
    "import gymnasium as gym\n",
    "from bettermdptools.envs.blackjack_wrapper import BlackjackWrapper\n",
    "from bettermdptools.utils.test_env import TestEnv\n",
    "from bettermdptools.algorithms.planner import Planner\n",
    "from bettermdptools.algorithms.rl import RL\n",
    "import numpy as np"
   ]
  },
  {
   "cell_type": "code",
   "execution_count": 2,
   "id": "1ca50d84",
   "metadata": {},
   "outputs": [],
   "source": [
    "# This cell imports seed.py by adding bettermdptools\\\\bettermdptools to sys.path\n",
    "import os\n",
    "import sys\n",
    "\n",
    "root_directory = os.path.abspath(os.path.join(os.getcwd(), '..'))\n",
    "inner_bettermdptools_path = os.path.join(root_directory, 'bettermdptools')\n",
    "\n",
    "if inner_bettermdptools_path not in sys.path:\n",
    "    sys.path.insert(0, inner_bettermdptools_path)\n",
    "\n",
    "from seed import set_seed\n",
    "set_seed(42)"
   ]
  },
  {
   "cell_type": "code",
   "execution_count": 4,
   "id": "265aae24-a1b3-4400-8bcc-8da16e9a4612",
   "metadata": {},
   "outputs": [
    {
     "name": "stdout",
     "output_type": "stream",
     "text": [
      "-0.12\n"
     ]
    },
    {
     "name": "stderr",
     "output_type": "stream",
     "text": [
      "                                                                                                                                       "
     ]
    },
    {
     "name": "stdout",
     "output_type": "stream",
     "text": [
      "-0.22\n"
     ]
    },
    {
     "name": "stderr",
     "output_type": "stream",
     "text": [
      "\r"
     ]
    }
   ],
   "source": [
    "base_env = gym.make('Blackjack-v1', render_mode=None)\n",
    "blackjack = BlackjackWrapper(base_env)\n",
    "\n",
    "# The code below generates the same outputs while set_seed(42) outputs different results\n",
    "# seed = 42\n",
    "# base_env.reset(seed = seed)\n",
    "# np.random.seed(seed=seed)\n",
    "\n",
    "# run VI\n",
    "V, V_track, pi = Planner(blackjack.P).value_iteration()\n",
    "\n",
    "# #test policy\n",
    "test_scores = TestEnv.test_env(env=blackjack, n_iters=100, render=False, pi=pi, user_input=False)\n",
    "print(np.mean(test_scores))\n",
    "\n",
    "# Q-learning\n",
    "Q, V, pi, Q_track, pi_track, rewards = RL(blackjack).q_learning()\n",
    "\n",
    "#test policy\n",
    "test_scores = TestEnv.test_env(env=blackjack, n_iters=100, render=False, pi=pi, user_input=False)\n",
    "print(np.mean(test_scores))"
   ]
  },
  {
   "cell_type": "code",
   "execution_count": null,
   "id": "fa7ad337",
   "metadata": {},
   "outputs": [],
   "source": []
  }
 ],
 "metadata": {
  "kernelspec": {
   "display_name": "Python (a4_conda)",
   "language": "python",
   "name": "a4_conda"
  },
  "language_info": {
   "codemirror_mode": {
    "name": "ipython",
    "version": 3
   },
   "file_extension": ".py",
   "mimetype": "text/x-python",
   "name": "python",
   "nbconvert_exporter": "python",
   "pygments_lexer": "ipython3",
   "version": "3.11.10"
  }
 },
 "nbformat": 4,
 "nbformat_minor": 5
}
